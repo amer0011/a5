{
 "cells": [
  {
   "cell_type": "code",
   "execution_count": 4,
   "id": "be8ff982",
   "metadata": {},
   "outputs": [
    {
     "name": "stdout",
     "output_type": "stream",
     "text": [
      "14.142135623730951\n"
     ]
    }
   ],
   "source": [
    "import math                   #منابع هم اتاقی معین دهقانی رشته برق\n",
    "\n",
    "def sd(l,k):\n",
    "    return math .sqrt(l**2+k**2)\n",
    "\n",
    "\n",
    "print(sd(10,10))"
   ]
  },
  {
   "cell_type": "code",
   "execution_count": null,
   "id": "f033588c",
   "metadata": {},
   "outputs": [],
   "source": []
  }
 ],
 "metadata": {
  "kernelspec": {
   "display_name": "Python 3 (ipykernel)",
   "language": "python",
   "name": "python3"
  },
  "language_info": {
   "codemirror_mode": {
    "name": "ipython",
    "version": 3
   },
   "file_extension": ".py",
   "mimetype": "text/x-python",
   "name": "python",
   "nbconvert_exporter": "python",
   "pygments_lexer": "ipython3",
   "version": "3.7.6"
  }
 },
 "nbformat": 4,
 "nbformat_minor": 5
}
